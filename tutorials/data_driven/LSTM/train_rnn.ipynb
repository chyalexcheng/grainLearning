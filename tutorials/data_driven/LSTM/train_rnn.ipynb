{
 "cells": [
  {
   "cell_type": "markdown",
   "id": "c064b8dd-84ac-4da4-9701-9cc296414650",
   "metadata": {},
   "source": [
    "# Tutorial: How to train a rnn using grainlearning.rnn"
   ]
  },
  {
   "cell_type": "markdown",
   "id": "f0d3daa5-ced1-4a89-9a27-4efcaf88f886",
   "metadata": {},
   "source": [
    "## ⚙️ Install grainlearning package\n",
    "(Not necessary if you are running jupyter-lab on an environment where grainlearning and rnn dependencies are installed)"
   ]
  },
  {
   "attachments": {},
   "cell_type": "markdown",
   "id": "4e11d1c8-a9a2-47dd-81cd-59369c5b79c6",
   "metadata": {},
   "source": [
    "`pip install grainlearning --extras \"rnn\"`"
   ]
  },
  {
   "cell_type": "markdown",
   "id": "915d05b1-c05e-4a4b-811b-e946d2cf823f",
   "metadata": {},
   "source": [
    "## Option 1: Train using wandb"
   ]
  },
  {
   "cell_type": "code",
   "execution_count": 1,
   "id": "11e50e9d-c1c0-47ce-8d0a-017d94a1e56e",
   "metadata": {},
   "outputs": [],
   "source": [
    "import grainlearning.rnn.train as train_rnn\n",
    "import wandb"
   ]
  },
  {
   "attachments": {},
   "cell_type": "markdown",
   "id": "159e5115",
   "metadata": {},
   "source": [
    "We define a dictionary `my_config` containing the values of several parameters that are needed for preparing the data, creating the RNN model and training it. Extensive lists of the keywords and the meaning of the values for [preparing data]() and [preparing model and training](https://grainlearning.readthedocs.io/en/latest/api.html#grainlearning.rnn.train.get_default_config)."
   ]
  },
  {
   "cell_type": "code",
   "execution_count": 2,
   "id": "04d4f2e5-8bd2-4102-9121-eefd4512dbb1",
   "metadata": {},
   "outputs": [],
   "source": [
    "my_config = {\n",
    "        'raw_data': '/Users/luisaorozco/Documents/Projects/GrainLearning/data/TriaxialCompression/triaxial_compression_variable_input.hdf5',\n",
    "        'pressure': 'All',\n",
    "        'experiment_type': 'drained',\n",
    "        'add_pressure': True,\n",
    "        'add_e0': True,\n",
    "        'train_frac': 0.7,\n",
    "        'val_frac': 0.15,\n",
    "        'window_size': 20,\n",
    "        'window_step': 1,\n",
    "        'patience': 25,\n",
    "        'epochs': 10,\n",
    "        'learning_rate': 1e-4,\n",
    "        'lstm_units': 250,\n",
    "        'dense_units': 250,\n",
    "        'batch_size': 256,\n",
    "        'standardize_outputs': True,\n",
    "        'save_weights_only': True\n",
    "    }"
   ]
  },
  {
   "attachments": {},
   "cell_type": "markdown",
   "id": "b3eafc2e",
   "metadata": {},
   "source": [
    "Creating a preprocessor of the data. We choose the preprocessor that is tailored for triaxial compression experiments."
   ]
  },
  {
   "cell_type": "code",
   "execution_count": 3,
   "id": "cd637abc",
   "metadata": {},
   "outputs": [
    {
     "name": "stderr",
     "output_type": "stream",
     "text": [
      "No add_experiment_type specified in config, using default True.\n",
      "No pad_length specified in config, using default 0.\n"
     ]
    }
   ],
   "source": [
    "from grainlearning.rnn import preprocessor\n",
    "preprocessor_TC = preprocessor.PreprocessorTriaxialCompression(**my_config)"
   ]
  },
  {
   "cell_type": "code",
   "execution_count": 4,
   "id": "cf0caf89-0cd6-442f-8bda-974bf37e2116",
   "metadata": {},
   "outputs": [
    {
     "name": "stderr",
     "output_type": "stream",
     "text": [
      "Failed to detect the name of this notebook, you can set it manually with the WANDB_NOTEBOOK_NAME environment variable to enable code saving.\n",
      "\u001b[34m\u001b[1mwandb\u001b[0m: Currently logged in as: \u001b[33mluisaforozco\u001b[0m. Use \u001b[1m`wandb login --relogin`\u001b[0m to force relogin\n"
     ]
    },
    {
     "data": {
      "application/vnd.jupyter.widget-view+json": {
       "model_id": "9489a9da0b9c4fa3acf8894667e78ad2",
       "version_major": 2,
       "version_minor": 0
      },
      "text/plain": [
       "VBox(children=(Label(value='Waiting for wandb.init()...\\r'), FloatProgress(value=0.0167534875, max=1.0)))"
      ]
     },
     "metadata": {},
     "output_type": "display_data"
    },
    {
     "data": {
      "text/html": [
       "wandb version 0.15.0 is available!  To upgrade, please run:\n",
       " $ pip install wandb --upgrade"
      ],
      "text/plain": [
       "<IPython.core.display.HTML object>"
      ]
     },
     "metadata": {},
     "output_type": "display_data"
    },
    {
     "data": {
      "text/html": [
       "Tracking run with wandb version 0.13.7"
      ],
      "text/plain": [
       "<IPython.core.display.HTML object>"
      ]
     },
     "metadata": {},
     "output_type": "display_data"
    },
    {
     "data": {
      "text/html": [
       "Run data is saved locally in <code>/Users/luisaorozco/Documents/Projects/GrainLearning/grainLearning/tutorials/rnn/wandb/run-20230425_144520-qq361mel</code>"
      ],
      "text/plain": [
       "<IPython.core.display.HTML object>"
      ]
     },
     "metadata": {},
     "output_type": "display_data"
    },
    {
     "data": {
      "text/html": [
       "Syncing run <strong><a href=\"https://wandb.ai/luisaforozco/grainLearning-tutorials_rnn/runs/qq361mel\" target=\"_blank\">astral-snow-7</a></strong> to <a href=\"https://wandb.ai/luisaforozco/grainLearning-tutorials_rnn\" target=\"_blank\">Weights & Biases</a> (<a href=\"https://wandb.me/run\" target=\"_blank\">docs</a>)<br/>"
      ],
      "text/plain": [
       "<IPython.core.display.HTML object>"
      ]
     },
     "metadata": {},
     "output_type": "display_data"
    },
    {
     "name": "stderr",
     "output_type": "stream",
     "text": [
      "No pad_length specified in config, using default 0.\n",
      "2023-04-25 14:45:23.639273: I tensorflow/core/common_runtime/pluggable_device/pluggable_device_factory.cc:305] Could not identify NUMA node of platform GPU ID 0, defaulting to 0. Your kernel may not have been built with NUMA support.\n",
      "2023-04-25 14:45:23.640027: I tensorflow/core/common_runtime/pluggable_device/pluggable_device_factory.cc:271] Created TensorFlow device (/job:localhost/replica:0/task:0/device:GPU:0 with 0 MB memory) -> physical PluggableDevice (device: 0, name: METAL, pci bus id: <undefined>)\n"
     ]
    },
    {
     "name": "stdout",
     "output_type": "stream",
     "text": [
      "Metal device set to: Apple M1 Pro\n",
      "\n",
      "systemMemory: 32.00 GB\n",
      "maxCacheSize: 10.67 GB\n",
      "\n"
     ]
    },
    {
     "name": "stderr",
     "output_type": "stream",
     "text": [
      "\u001b[34m\u001b[1mwandb\u001b[0m: \u001b[33mWARNING\u001b[0m The save_model argument by default saves the model in the HDF5 format that cannot save custom objects like subclassed models and custom layers. This behavior will be deprecated in a future release in favor of the SavedModel format. Meanwhile, the HDF5 model is saved as W&B files and the SavedModel as W&B Artifacts.\n"
     ]
    },
    {
     "name": "stdout",
     "output_type": "stream",
     "text": [
      "Epoch 1/10\n"
     ]
    },
    {
     "name": "stderr",
     "output_type": "stream",
     "text": [
      "2023-04-25 14:45:25.060938: W tensorflow/core/platform/profile_utils/cpu_utils.cc:128] Failed to get CPU frequency: 0 Hz\n",
      "2023-04-25 14:45:25.070371: I tensorflow/core/grappler/optimizers/custom_graph_optimizer_registry.cc:113] Plugin optimizer for device_type GPU is enabled.\n",
      "2023-04-25 14:45:25.336914: I tensorflow/core/grappler/optimizers/custom_graph_optimizer_registry.cc:113] Plugin optimizer for device_type GPU is enabled.\n"
     ]
    },
    {
     "name": "stdout",
     "output_type": "stream",
     "text": [
      "   1/2214 [..............................] - ETA: 52:22 - loss: 1.1206 - mae: 0.7866"
     ]
    },
    {
     "name": "stderr",
     "output_type": "stream",
     "text": [
      "2023-04-25 14:45:25.768454: I tensorflow/core/grappler/optimizers/custom_graph_optimizer_registry.cc:113] Plugin optimizer for device_type GPU is enabled.\n"
     ]
    },
    {
     "name": "stdout",
     "output_type": "stream",
     "text": [
      "2214/2214 [==============================] - ETA: 0s - loss: 0.2972 - mae: 0.3581"
     ]
    },
    {
     "name": "stderr",
     "output_type": "stream",
     "text": [
      "2023-04-25 14:46:16.049515: I tensorflow/core/grappler/optimizers/custom_graph_optimizer_registry.cc:113] Plugin optimizer for device_type GPU is enabled.\n",
      "2023-04-25 14:46:16.121745: I tensorflow/core/grappler/optimizers/custom_graph_optimizer_registry.cc:113] Plugin optimizer for device_type GPU is enabled.\n",
      "WARNING:absl:Found untraced functions such as lstm_cell_layer_call_fn, lstm_cell_layer_call_and_return_conditional_losses while saving (showing 2 of 2). These functions will not be directly callable after loading.\n"
     ]
    },
    {
     "name": "stdout",
     "output_type": "stream",
     "text": [
      "INFO:tensorflow:Assets written to: /Users/luisaorozco/Documents/Projects/GrainLearning/grainLearning/tutorials/rnn/wandb/run-20230425_144520-qq361mel/files/model-best/assets\n"
     ]
    },
    {
     "name": "stderr",
     "output_type": "stream",
     "text": [
      "INFO:tensorflow:Assets written to: /Users/luisaorozco/Documents/Projects/GrainLearning/grainLearning/tutorials/rnn/wandb/run-20230425_144520-qq361mel/files/model-best/assets\n",
      "\u001b[34m\u001b[1mwandb\u001b[0m: Adding directory to artifact (/Users/luisaorozco/Documents/Projects/GrainLearning/grainLearning/tutorials/rnn/wandb/run-20230425_144520-qq361mel/files/model-best)... Done. 0.1s\n"
     ]
    },
    {
     "name": "stdout",
     "output_type": "stream",
     "text": [
      "2214/2214 [==============================] - 58s 25ms/step - loss: 0.2972 - mae: 0.3581 - val_loss: 0.1388 - val_mae: 0.2406\n",
      "Epoch 2/10\n",
      "2212/2214 [============================>.] - ETA: 0s - loss: 0.0952 - mae: 0.1920"
     ]
    },
    {
     "name": "stderr",
     "output_type": "stream",
     "text": [
      "WARNING:absl:Found untraced functions such as lstm_cell_layer_call_fn, lstm_cell_layer_call_and_return_conditional_losses while saving (showing 2 of 2). These functions will not be directly callable after loading.\n"
     ]
    },
    {
     "name": "stdout",
     "output_type": "stream",
     "text": [
      "INFO:tensorflow:Assets written to: /Users/luisaorozco/Documents/Projects/GrainLearning/grainLearning/tutorials/rnn/wandb/run-20230425_144520-qq361mel/files/model-best/assets\n"
     ]
    },
    {
     "name": "stderr",
     "output_type": "stream",
     "text": [
      "INFO:tensorflow:Assets written to: /Users/luisaorozco/Documents/Projects/GrainLearning/grainLearning/tutorials/rnn/wandb/run-20230425_144520-qq361mel/files/model-best/assets\n",
      "\u001b[34m\u001b[1mwandb\u001b[0m: Adding directory to artifact (/Users/luisaorozco/Documents/Projects/GrainLearning/grainLearning/tutorials/rnn/wandb/run-20230425_144520-qq361mel/files/model-best)... Done. 0.0s\n"
     ]
    },
    {
     "name": "stdout",
     "output_type": "stream",
     "text": [
      "2214/2214 [==============================] - 42s 19ms/step - loss: 0.0951 - mae: 0.1920 - val_loss: 0.0864 - val_mae: 0.1804\n",
      "Epoch 3/10\n",
      "2211/2214 [============================>.] - ETA: 0s - loss: 0.0745 - mae: 0.1650"
     ]
    },
    {
     "name": "stderr",
     "output_type": "stream",
     "text": [
      "WARNING:absl:Found untraced functions such as lstm_cell_layer_call_fn, lstm_cell_layer_call_and_return_conditional_losses while saving (showing 2 of 2). These functions will not be directly callable after loading.\n"
     ]
    },
    {
     "name": "stdout",
     "output_type": "stream",
     "text": [
      "INFO:tensorflow:Assets written to: /Users/luisaorozco/Documents/Projects/GrainLearning/grainLearning/tutorials/rnn/wandb/run-20230425_144520-qq361mel/files/model-best/assets\n"
     ]
    },
    {
     "name": "stderr",
     "output_type": "stream",
     "text": [
      "INFO:tensorflow:Assets written to: /Users/luisaorozco/Documents/Projects/GrainLearning/grainLearning/tutorials/rnn/wandb/run-20230425_144520-qq361mel/files/model-best/assets\n",
      "\u001b[34m\u001b[1mwandb\u001b[0m: Adding directory to artifact (/Users/luisaorozco/Documents/Projects/GrainLearning/grainLearning/tutorials/rnn/wandb/run-20230425_144520-qq361mel/files/model-best)... Done. 0.0s\n"
     ]
    },
    {
     "name": "stdout",
     "output_type": "stream",
     "text": [
      "2214/2214 [==============================] - 41s 19ms/step - loss: 0.0745 - mae: 0.1649 - val_loss: 0.0763 - val_mae: 0.1642\n",
      "Epoch 4/10\n",
      "2214/2214 [==============================] - ETA: 0s - loss: 0.0650 - mae: 0.1536"
     ]
    },
    {
     "name": "stderr",
     "output_type": "stream",
     "text": [
      "WARNING:absl:Found untraced functions such as lstm_cell_layer_call_fn, lstm_cell_layer_call_and_return_conditional_losses while saving (showing 2 of 2). These functions will not be directly callable after loading.\n"
     ]
    },
    {
     "name": "stdout",
     "output_type": "stream",
     "text": [
      "INFO:tensorflow:Assets written to: /Users/luisaorozco/Documents/Projects/GrainLearning/grainLearning/tutorials/rnn/wandb/run-20230425_144520-qq361mel/files/model-best/assets\n"
     ]
    },
    {
     "name": "stderr",
     "output_type": "stream",
     "text": [
      "INFO:tensorflow:Assets written to: /Users/luisaorozco/Documents/Projects/GrainLearning/grainLearning/tutorials/rnn/wandb/run-20230425_144520-qq361mel/files/model-best/assets\n",
      "\u001b[34m\u001b[1mwandb\u001b[0m: Adding directory to artifact (/Users/luisaorozco/Documents/Projects/GrainLearning/grainLearning/tutorials/rnn/wandb/run-20230425_144520-qq361mel/files/model-best)... Done. 0.0s\n"
     ]
    },
    {
     "name": "stdout",
     "output_type": "stream",
     "text": [
      "2214/2214 [==============================] - 41s 19ms/step - loss: 0.0650 - mae: 0.1536 - val_loss: 0.0592 - val_mae: 0.1445\n",
      "Epoch 5/10\n",
      "2214/2214 [==============================] - ETA: 0s - loss: 0.0503 - mae: 0.1337"
     ]
    },
    {
     "name": "stderr",
     "output_type": "stream",
     "text": [
      "WARNING:absl:Found untraced functions such as lstm_cell_layer_call_fn, lstm_cell_layer_call_and_return_conditional_losses while saving (showing 2 of 2). These functions will not be directly callable after loading.\n"
     ]
    },
    {
     "name": "stdout",
     "output_type": "stream",
     "text": [
      "INFO:tensorflow:Assets written to: /Users/luisaorozco/Documents/Projects/GrainLearning/grainLearning/tutorials/rnn/wandb/run-20230425_144520-qq361mel/files/model-best/assets\n"
     ]
    },
    {
     "name": "stderr",
     "output_type": "stream",
     "text": [
      "INFO:tensorflow:Assets written to: /Users/luisaorozco/Documents/Projects/GrainLearning/grainLearning/tutorials/rnn/wandb/run-20230425_144520-qq361mel/files/model-best/assets\n",
      "\u001b[34m\u001b[1mwandb\u001b[0m: Adding directory to artifact (/Users/luisaorozco/Documents/Projects/GrainLearning/grainLearning/tutorials/rnn/wandb/run-20230425_144520-qq361mel/files/model-best)... Done. 0.0s\n"
     ]
    },
    {
     "name": "stdout",
     "output_type": "stream",
     "text": [
      "2214/2214 [==============================] - 41s 18ms/step - loss: 0.0503 - mae: 0.1337 - val_loss: 0.0481 - val_mae: 0.1195\n",
      "Epoch 6/10\n",
      "2213/2214 [============================>.] - ETA: 0s - loss: 0.0356 - mae: 0.1105"
     ]
    },
    {
     "name": "stderr",
     "output_type": "stream",
     "text": [
      "WARNING:absl:Found untraced functions such as lstm_cell_layer_call_fn, lstm_cell_layer_call_and_return_conditional_losses while saving (showing 2 of 2). These functions will not be directly callable after loading.\n"
     ]
    },
    {
     "name": "stdout",
     "output_type": "stream",
     "text": [
      "INFO:tensorflow:Assets written to: /Users/luisaorozco/Documents/Projects/GrainLearning/grainLearning/tutorials/rnn/wandb/run-20230425_144520-qq361mel/files/model-best/assets\n"
     ]
    },
    {
     "name": "stderr",
     "output_type": "stream",
     "text": [
      "INFO:tensorflow:Assets written to: /Users/luisaorozco/Documents/Projects/GrainLearning/grainLearning/tutorials/rnn/wandb/run-20230425_144520-qq361mel/files/model-best/assets\n",
      "\u001b[34m\u001b[1mwandb\u001b[0m: Adding directory to artifact (/Users/luisaorozco/Documents/Projects/GrainLearning/grainLearning/tutorials/rnn/wandb/run-20230425_144520-qq361mel/files/model-best)... Done. 0.0s\n"
     ]
    },
    {
     "name": "stdout",
     "output_type": "stream",
     "text": [
      "2214/2214 [==============================] - 41s 19ms/step - loss: 0.0356 - mae: 0.1105 - val_loss: 0.0345 - val_mae: 0.0956\n",
      "Epoch 7/10\n",
      "2212/2214 [============================>.] - ETA: 0s - loss: 0.0258 - mae: 0.0927"
     ]
    },
    {
     "name": "stderr",
     "output_type": "stream",
     "text": [
      "WARNING:absl:Found untraced functions such as lstm_cell_layer_call_fn, lstm_cell_layer_call_and_return_conditional_losses while saving (showing 2 of 2). These functions will not be directly callable after loading.\n"
     ]
    },
    {
     "name": "stdout",
     "output_type": "stream",
     "text": [
      "INFO:tensorflow:Assets written to: /Users/luisaorozco/Documents/Projects/GrainLearning/grainLearning/tutorials/rnn/wandb/run-20230425_144520-qq361mel/files/model-best/assets\n"
     ]
    },
    {
     "name": "stderr",
     "output_type": "stream",
     "text": [
      "INFO:tensorflow:Assets written to: /Users/luisaorozco/Documents/Projects/GrainLearning/grainLearning/tutorials/rnn/wandb/run-20230425_144520-qq361mel/files/model-best/assets\n",
      "\u001b[34m\u001b[1mwandb\u001b[0m: Adding directory to artifact (/Users/luisaorozco/Documents/Projects/GrainLearning/grainLearning/tutorials/rnn/wandb/run-20230425_144520-qq361mel/files/model-best)... Done. 0.0s\n"
     ]
    },
    {
     "name": "stdout",
     "output_type": "stream",
     "text": [
      "2214/2214 [==============================] - 41s 18ms/step - loss: 0.0258 - mae: 0.0927 - val_loss: 0.0287 - val_mae: 0.0880\n",
      "Epoch 8/10\n",
      "2213/2214 [============================>.] - ETA: 0s - loss: 0.0223 - mae: 0.0854"
     ]
    },
    {
     "name": "stderr",
     "output_type": "stream",
     "text": [
      "WARNING:absl:Found untraced functions such as lstm_cell_layer_call_fn, lstm_cell_layer_call_and_return_conditional_losses while saving (showing 2 of 2). These functions will not be directly callable after loading.\n"
     ]
    },
    {
     "name": "stdout",
     "output_type": "stream",
     "text": [
      "INFO:tensorflow:Assets written to: /Users/luisaorozco/Documents/Projects/GrainLearning/grainLearning/tutorials/rnn/wandb/run-20230425_144520-qq361mel/files/model-best/assets\n"
     ]
    },
    {
     "name": "stderr",
     "output_type": "stream",
     "text": [
      "INFO:tensorflow:Assets written to: /Users/luisaorozco/Documents/Projects/GrainLearning/grainLearning/tutorials/rnn/wandb/run-20230425_144520-qq361mel/files/model-best/assets\n",
      "\u001b[34m\u001b[1mwandb\u001b[0m: Adding directory to artifact (/Users/luisaorozco/Documents/Projects/GrainLearning/grainLearning/tutorials/rnn/wandb/run-20230425_144520-qq361mel/files/model-best)... Done. 0.0s\n"
     ]
    },
    {
     "name": "stdout",
     "output_type": "stream",
     "text": [
      "2214/2214 [==============================] - 41s 19ms/step - loss: 0.0223 - mae: 0.0854 - val_loss: 0.0258 - val_mae: 0.0809\n",
      "Epoch 9/10\n",
      "2212/2214 [============================>.] - ETA: 0s - loss: 0.0197 - mae: 0.0795"
     ]
    },
    {
     "name": "stderr",
     "output_type": "stream",
     "text": [
      "WARNING:absl:Found untraced functions such as lstm_cell_layer_call_fn, lstm_cell_layer_call_and_return_conditional_losses while saving (showing 2 of 2). These functions will not be directly callable after loading.\n"
     ]
    },
    {
     "name": "stdout",
     "output_type": "stream",
     "text": [
      "INFO:tensorflow:Assets written to: /Users/luisaorozco/Documents/Projects/GrainLearning/grainLearning/tutorials/rnn/wandb/run-20230425_144520-qq361mel/files/model-best/assets\n"
     ]
    },
    {
     "name": "stderr",
     "output_type": "stream",
     "text": [
      "INFO:tensorflow:Assets written to: /Users/luisaorozco/Documents/Projects/GrainLearning/grainLearning/tutorials/rnn/wandb/run-20230425_144520-qq361mel/files/model-best/assets\n",
      "\u001b[34m\u001b[1mwandb\u001b[0m: Adding directory to artifact (/Users/luisaorozco/Documents/Projects/GrainLearning/grainLearning/tutorials/rnn/wandb/run-20230425_144520-qq361mel/files/model-best)... Done. 0.0s\n"
     ]
    },
    {
     "name": "stdout",
     "output_type": "stream",
     "text": [
      "2214/2214 [==============================] - 41s 18ms/step - loss: 0.0196 - mae: 0.0795 - val_loss: 0.0220 - val_mae: 0.0757\n",
      "Epoch 10/10\n",
      "2214/2214 [==============================] - ETA: 0s - loss: 0.0161 - mae: 0.0720"
     ]
    },
    {
     "name": "stderr",
     "output_type": "stream",
     "text": [
      "WARNING:absl:Found untraced functions such as lstm_cell_layer_call_fn, lstm_cell_layer_call_and_return_conditional_losses while saving (showing 2 of 2). These functions will not be directly callable after loading.\n"
     ]
    },
    {
     "name": "stdout",
     "output_type": "stream",
     "text": [
      "INFO:tensorflow:Assets written to: /Users/luisaorozco/Documents/Projects/GrainLearning/grainLearning/tutorials/rnn/wandb/run-20230425_144520-qq361mel/files/model-best/assets\n"
     ]
    },
    {
     "name": "stderr",
     "output_type": "stream",
     "text": [
      "INFO:tensorflow:Assets written to: /Users/luisaorozco/Documents/Projects/GrainLearning/grainLearning/tutorials/rnn/wandb/run-20230425_144520-qq361mel/files/model-best/assets\n",
      "\u001b[34m\u001b[1mwandb\u001b[0m: Adding directory to artifact (/Users/luisaorozco/Documents/Projects/GrainLearning/grainLearning/tutorials/rnn/wandb/run-20230425_144520-qq361mel/files/model-best)... Done. 0.0s\n"
     ]
    },
    {
     "name": "stdout",
     "output_type": "stream",
     "text": [
      "2214/2214 [==============================] - 41s 19ms/step - loss: 0.0161 - mae: 0.0720 - val_loss: 0.0176 - val_mae: 0.0689\n",
      "476/476 [==============================] - 4s 9ms/step - loss: 0.0173 - mae: 0.0696\n",
      "test loss = 0.01731450855731964, test mae = 0.06963476538658142\n"
     ]
    },
    {
     "data": {
      "text/html": [
       "Waiting for W&B process to finish... <strong style=\"color:green\">(success).</strong>"
      ],
      "text/plain": [
       "<IPython.core.display.HTML object>"
      ]
     },
     "metadata": {},
     "output_type": "display_data"
    },
    {
     "data": {
      "text/html": [
       "<style>\n",
       "    table.wandb td:nth-child(1) { padding: 0 10px; text-align: left ; width: auto;} td:nth-child(2) {text-align: left ; width: 100%}\n",
       "    .wandb-row { display: flex; flex-direction: row; flex-wrap: wrap; justify-content: flex-start; width: 100% }\n",
       "    .wandb-col { display: flex; flex-direction: column; flex-basis: 100%; flex: 1; padding: 10px; }\n",
       "    </style>\n",
       "<div class=\"wandb-row\"><div class=\"wandb-col\"><h3>Run history:</h3><br/><table class=\"wandb\"><tr><td>epoch</td><td>▁▂▃▃▄▅▆▆▇█</td></tr><tr><td>loss</td><td>█▃▂▂▂▁▁▁▁▁</td></tr><tr><td>mae</td><td>█▄▃▃▃▂▂▁▁▁</td></tr><tr><td>test_loss</td><td>▁</td></tr><tr><td>test_mae</td><td>▁</td></tr><tr><td>val_loss</td><td>█▅▄▃▃▂▂▁▁▁</td></tr><tr><td>val_mae</td><td>█▆▅▄▃▂▂▁▁▁</td></tr></table><br/></div><div class=\"wandb-col\"><h3>Run summary:</h3><br/><table class=\"wandb\"><tr><td>best_epoch</td><td>9</td></tr><tr><td>best_val_loss</td><td>0.01758</td></tr><tr><td>epoch</td><td>9</td></tr><tr><td>loss</td><td>0.01614</td></tr><tr><td>mae</td><td>0.07196</td></tr><tr><td>test_loss</td><td>0.01731</td></tr><tr><td>test_mae</td><td>0.06963</td></tr><tr><td>val_loss</td><td>0.01758</td></tr><tr><td>val_mae</td><td>0.06888</td></tr></table><br/></div></div>"
      ],
      "text/plain": [
       "<IPython.core.display.HTML object>"
      ]
     },
     "metadata": {},
     "output_type": "display_data"
    },
    {
     "data": {
      "text/html": [
       "Synced <strong style=\"color:#cdcd00\">astral-snow-7</strong>: <a href=\"https://wandb.ai/luisaforozco/grainLearning-tutorials_rnn/runs/qq361mel\" target=\"_blank\">https://wandb.ai/luisaforozco/grainLearning-tutorials_rnn/runs/qq361mel</a><br/>Synced 6 W&B file(s), 1 media file(s), 31 artifact file(s) and 2 other file(s)"
      ],
      "text/plain": [
       "<IPython.core.display.HTML object>"
      ]
     },
     "metadata": {},
     "output_type": "display_data"
    },
    {
     "data": {
      "text/html": [
       "Find logs at: <code>./wandb/run-20230425_144520-qq361mel/logs</code>"
      ],
      "text/plain": [
       "<IPython.core.display.HTML object>"
      ]
     },
     "metadata": {},
     "output_type": "display_data"
    }
   ],
   "source": [
    "history_wandb = train_rnn.train(preprocessor_TC, config=my_config)"
   ]
  },
  {
   "cell_type": "markdown",
   "id": "4f2e5d15-7e95-4fc5-a05d-0dadbd52177d",
   "metadata": {},
   "source": [
    "You have trained your first model! 🥳️\n",
    "\n",
    "Note that we have only ran 10 epochs, you can change that in the config dictionary that we defined.\n",
    "\n",
    "Also, the results have probably been synced to the wandb project that you had by default, we explain how to set that up in the documentation."
   ]
  },
  {
   "cell_type": "markdown",
   "id": "e314bee1-f7b5-47e8-9e77-311f104d9bb7",
   "metadata": {
    "tags": []
   },
   "source": [
    "## Option 2: Train using plain tensorflow "
   ]
  },
  {
   "cell_type": "code",
   "execution_count": 5,
   "id": "590c4f1e-26a4-486a-a988-3ab299202185",
   "metadata": {},
   "outputs": [],
   "source": [
    "import grainlearning.rnn.train as train_rnn"
   ]
  },
  {
   "cell_type": "code",
   "execution_count": 6,
   "id": "fcf30f75-1e05-4d04-93be-016a5bba7c89",
   "metadata": {},
   "outputs": [],
   "source": [
    "# dictionary with the configuration of the training\n",
    "my_config = {\n",
    "        'raw_data': '/Users/luisaorozco/Documents/Projects/GrainLearning/data/TriaxialCompression/triaxial_compression_variable_input.hdf5',\n",
    "        'pressure': 'All',\n",
    "        'experiment_type': 'drained',\n",
    "        'add_pressure': True,\n",
    "        'add_e0': True,\n",
    "        'train_frac': 0.7,\n",
    "        'val_frac': 0.15,\n",
    "        'window_size': 20,\n",
    "        'window_step': 1,\n",
    "        'patience': 25,\n",
    "        'epochs': 10,\n",
    "        'learning_rate': 1e-4,\n",
    "        'lstm_units': 250,\n",
    "        'dense_units': 250,\n",
    "        'batch_size': 256,\n",
    "        'standardize_outputs': True,\n",
    "        'save_weights_only': True\n",
    "    }"
   ]
  },
  {
   "cell_type": "code",
   "execution_count": 7,
   "id": "47a246f4",
   "metadata": {},
   "outputs": [
    {
     "name": "stderr",
     "output_type": "stream",
     "text": [
      "No add_experiment_type specified in config, using default True.\n",
      "No pad_length specified in config, using default 0.\n"
     ]
    }
   ],
   "source": [
    "# Creating the preprocessor of the data\n",
    "from grainlearning.rnn import preprocessor\n",
    "preprocessor_TC = preprocessor.PreprocessorTriaxialCompression(**my_config)"
   ]
  },
  {
   "cell_type": "code",
   "execution_count": 8,
   "id": "468f8134-1145-4eab-8636-b83afc028e9f",
   "metadata": {},
   "outputs": [
    {
     "name": "stderr",
     "output_type": "stream",
     "text": [
      "No pad_length specified in config, using default 0.\n"
     ]
    },
    {
     "name": "stdout",
     "output_type": "stream",
     "text": [
      "Epoch 1/10\n"
     ]
    },
    {
     "name": "stderr",
     "output_type": "stream",
     "text": [
      "2023-04-25 14:56:35.261345: I tensorflow/core/grappler/optimizers/custom_graph_optimizer_registry.cc:113] Plugin optimizer for device_type GPU is enabled.\n",
      "2023-04-25 14:56:35.439760: I tensorflow/core/grappler/optimizers/custom_graph_optimizer_registry.cc:113] Plugin optimizer for device_type GPU is enabled.\n"
     ]
    },
    {
     "name": "stdout",
     "output_type": "stream",
     "text": [
      "   4/2214 [..............................] - ETA: 47s - loss: 1.0562 - mae: 0.7639  "
     ]
    },
    {
     "name": "stderr",
     "output_type": "stream",
     "text": [
      "2023-04-25 14:56:35.527022: I tensorflow/core/grappler/optimizers/custom_graph_optimizer_registry.cc:113] Plugin optimizer for device_type GPU is enabled.\n"
     ]
    },
    {
     "name": "stdout",
     "output_type": "stream",
     "text": [
      "2214/2214 [==============================] - ETA: 0s - loss: 0.2972 - mae: 0.3581"
     ]
    },
    {
     "name": "stderr",
     "output_type": "stream",
     "text": [
      "2023-04-25 14:57:11.579682: I tensorflow/core/grappler/optimizers/custom_graph_optimizer_registry.cc:113] Plugin optimizer for device_type GPU is enabled.\n",
      "2023-04-25 14:57:11.647852: I tensorflow/core/grappler/optimizers/custom_graph_optimizer_registry.cc:113] Plugin optimizer for device_type GPU is enabled.\n"
     ]
    },
    {
     "name": "stdout",
     "output_type": "stream",
     "text": [
      "2214/2214 [==============================] - 41s 18ms/step - loss: 0.2972 - mae: 0.3581 - val_loss: 0.1388 - val_mae: 0.2406\n",
      "Epoch 2/10\n",
      "2214/2214 [==============================] - 40s 18ms/step - loss: 0.0951 - mae: 0.1920 - val_loss: 0.0864 - val_mae: 0.1804\n",
      "Epoch 3/10\n",
      "2214/2214 [==============================] - 39s 18ms/step - loss: 0.0745 - mae: 0.1649 - val_loss: 0.0763 - val_mae: 0.1642\n",
      "Epoch 4/10\n",
      "2214/2214 [==============================] - 40s 18ms/step - loss: 0.0650 - mae: 0.1536 - val_loss: 0.0592 - val_mae: 0.1445\n",
      "Epoch 5/10\n",
      "2214/2214 [==============================] - 39s 18ms/step - loss: 0.0503 - mae: 0.1337 - val_loss: 0.0481 - val_mae: 0.1195\n",
      "Epoch 6/10\n",
      "2214/2214 [==============================] - 40s 18ms/step - loss: 0.0356 - mae: 0.1105 - val_loss: 0.0345 - val_mae: 0.0956\n",
      "Epoch 7/10\n",
      "2214/2214 [==============================] - 39s 18ms/step - loss: 0.0258 - mae: 0.0927 - val_loss: 0.0287 - val_mae: 0.0880\n",
      "Epoch 8/10\n",
      "2214/2214 [==============================] - 39s 18ms/step - loss: 0.0223 - mae: 0.0854 - val_loss: 0.0258 - val_mae: 0.0809\n",
      "Epoch 9/10\n",
      "2214/2214 [==============================] - 39s 18ms/step - loss: 0.0196 - mae: 0.0795 - val_loss: 0.0220 - val_mae: 0.0757\n",
      "Epoch 10/10\n",
      "2214/2214 [==============================] - 39s 18ms/step - loss: 0.0161 - mae: 0.0720 - val_loss: 0.0176 - val_mae: 0.0689\n",
      "476/476 [==============================] - 4s 9ms/step - loss: 0.0173 - mae: 0.0696\n",
      "test loss = 0.01731450855731964, test mae = 0.06963476538658142\n"
     ]
    }
   ],
   "source": [
    "history_simple = train_rnn.train_without_wandb(preprocessor_TC, config=my_config)"
   ]
  },
  {
   "cell_type": "markdown",
   "id": "51a4f455-cff8-4c21-a19c-7f233a36882c",
   "metadata": {},
   "source": [
    "### 📉 Plot the training history "
   ]
  },
  {
   "cell_type": "markdown",
   "id": "d5db6741-0fd6-478b-9c1f-fa2b1b0c6e1e",
   "metadata": {},
   "source": [
    "⚙️ First, install dependencies for ploting on jupyter notebooks"
   ]
  },
  {
   "attachments": {},
   "cell_type": "markdown",
   "id": "4387d65b-2252-4288-b469-50461f715832",
   "metadata": {},
   "source": [
    "`pip install matplotlib`"
   ]
  },
  {
   "cell_type": "code",
   "execution_count": 9,
   "id": "c05631e3-a9ec-44cb-9a52-abaa3405edf8",
   "metadata": {},
   "outputs": [
    {
     "data": {
      "text/plain": [
       "<matplotlib.legend.Legend at 0x313c53ca0>"
      ]
     },
     "execution_count": 9,
     "metadata": {},
     "output_type": "execute_result"
    },
    {
     "data": {
      "image/png": "[encoded data removed]",
      "text/plain": [
       "<Figure size 640x480 with 1 Axes>"
      ]
     },
     "metadata": {},
     "output_type": "display_data"
    }
   ],
   "source": [
    "%matplotlib inline\n",
    "from matplotlib import pyplot as plt\n",
    "plt.plot(history_simple.history['loss'], label='training loss')\n",
    "plt.plot(history_simple.history['val_loss'], label='validation loss')\n",
    "plt.xlabel(\"epoch\"); plt.ylabel(\"MSE\")\n",
    "plt.legend()"
   ]
  },
  {
   "cell_type": "markdown",
   "id": "57b3cfe7-afeb-4125-b117-4519f8da8394",
   "metadata": {},
   "source": [
    "## Next steps ☕️"
   ]
  },
  {
   "cell_type": "markdown",
   "id": "c0f204e8-bb47-4838-ae83-ccc433e5e22e",
   "metadata": {},
   "source": [
    "Now that you know how to train a rnn you should check the documentation to see how you can run sweeps using wandb.\n",
    "\n",
    "Happy coding 😊"
   ]
  }
 ],
 "metadata": {
  "kernelspec": {
   "display_name": "Python 3 (ipykernel)",
   "language": "python",
   "name": "python3"
  },
  "language_info": {
   "codemirror_mode": {
    "name": "ipython",
    "version": 3
   },
   "file_extension": ".py",
   "mimetype": "text/x-python",
   "name": "python",
   "nbconvert_exporter": "python",
   "pygments_lexer": "ipython3",
   "version": "3.9.15"
  }
 },
 "nbformat": 4,
 "nbformat_minor": 5
}
